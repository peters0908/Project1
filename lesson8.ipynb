{
 "cells": [
  {
   "cell_type": "code",
   "execution_count": 2,
   "metadata": {},
   "outputs": [
    {
     "name": "stdout",
     "output_type": "stream",
     "text": [
      "robert\n",
      "戰士\n",
      "peter\n",
      "魔法師\n"
     ]
    }
   ],
   "source": [
    "class Person():\n",
    "    def __init__(self,name):\n",
    "        self.name = name\n",
    "\n",
    "class Magician(Person):\n",
    "    def __init__(self,name):\n",
    "        super().__init__(name)\n",
    "        self.__rol = \"魔法師\"\n",
    "    @property\n",
    "    def rol(self):\n",
    "        return self.__rol\n",
    "\n",
    "class Fighter(Person):\n",
    "    def __init__(self,name):\n",
    "        super().__init__(name)\n",
    "        self.__rol = \"戰士\"\n",
    "    @property\n",
    "    def rol(self):\n",
    "        return self.__rol\n",
    "\n",
    "fighter1 = Fighter(\"robert\")\n",
    "print(fighter1.name)\n",
    "print(fighter1.rol)\n",
    "\n",
    "mag1 = Magician(\"peter\")\n",
    "print(mag1.name)\n",
    "print(mag1.rol)"
   ]
  }
 ],
 "metadata": {
  "kernelspec": {
   "display_name": "Python 3.11.0 64-bit",
   "language": "python",
   "name": "python3"
  },
  "language_info": {
   "codemirror_mode": {
    "name": "ipython",
    "version": 3
   },
   "file_extension": ".py",
   "mimetype": "text/x-python",
   "name": "python",
   "nbconvert_exporter": "python",
   "pygments_lexer": "ipython3",
   "version": "3.11.0"
  },
  "orig_nbformat": 4,
  "vscode": {
   "interpreter": {
    "hash": "5c7b89af1651d0b8571dde13640ecdccf7d5a6204171d6ab33e7c296e100e08a"
   }
  }
 },
 "nbformat": 4,
 "nbformat_minor": 2
}
