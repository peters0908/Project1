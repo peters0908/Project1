{
 "cells": [
  {
   "cell_type": "code",
   "execution_count": 2,
   "metadata": {},
   "outputs": [
    {
     "name": "stdout",
     "output_type": "stream",
     "text": [
      "robert\n",
      "戰士\n",
      "peter\n",
      "魔法師\n"
     ]
    }
   ],
   "source": [
    "class Person():\n",
    "    def __init__(self,name):\n",
    "        self.name = name\n",
    "\n",
    "class Magician(Person):\n",
    "    def __init__(self,name):\n",
    "        super().__init__(name)\n",
    "        self.__rol = \"魔法師\"\n",
    "    @property\n",
    "    def rol(self):\n",
    "        return self.__rol\n",
    "\n",
    "class Fighter(Person):\n",
    "    def __init__(self,name):\n",
    "        super().__init__(name)\n",
    "        self.__rol = \"戰士\"\n",
    "    @property\n",
    "    def rol(self):\n",
    "        return self.__rol\n",
    "\n",
    "fighter1 = Fighter(\"robert\")\n",
    "print(fighter1.name)\n",
    "print(fighter1.rol)\n",
    "\n",
    "mag1 = Magician(\"peter\")\n",
    "print(mag1.name)\n",
    "print(mag1.rol)"
   ]
  }
 ],
 "metadata": {
  "kernelspec": {
   "display_name": "Python 3.10.7 64-bit",
   "language": "python",
   "name": "python3"
  },
  "language_info": {
   "codemirror_mode": {
    "name": "ipython",
    "version": 3
   },
   "file_extension": ".py",
   "mimetype": "text/x-python",
   "name": "python",
   "nbconvert_exporter": "python",
   "pygments_lexer": "ipython3",
   "version": "3.10.7"
  },
  "orig_nbformat": 4,
  "vscode": {
   "interpreter": {
    "hash": "fb4569285eef3a3450cb62085a5b1e0da4bce0af555edc33dcf29baf3acc1368"
   }
  }
 },
 "nbformat": 4,
 "nbformat_minor": 2
}
