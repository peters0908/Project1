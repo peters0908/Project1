{
 "cells": [
  {
   "cell_type": "code",
   "execution_count": 13,
   "metadata": {},
   "outputs": [
    {
     "name": "stdout",
     "output_type": "stream",
     "text": [
      "更新時間\n",
      "2021/02/24 17:13:00\n",
      "2021/02/24 17:13:00\n",
      "2021/02/24 17:13:00\n",
      "2021/02/12 18:47:00\n",
      "2021/02/24 17:13:00\n",
      "2020/08/23 06:40:00\n",
      "2020/08/23 06:40:00\n",
      "2020/08/23 06:40:00\n",
      "2021/02/24 17:13:00\n",
      "2021/02/24 17:13:00\n",
      "2021/02/24 17:13:00\n",
      "2020/04/14 02:13:00\n",
      "2021/02/24 17:13:00\n",
      "2021/02/24 17:13:00\n",
      "2021/02/24 17:13:00\n",
      "2021/02/24 17:13:00\n",
      "2020/05/06 14:44:00\n",
      "2019/11/26 19:46:00\n",
      "2021/01/13 20:07:25\n",
      "2020/03/03 09:34:59\n",
      "2021/03/11 19:35:46\n",
      "2021/03/11 19:36:09\n",
      "2021/03/11 15:30:24\n",
      "2021/03/11 19:35:44\n",
      "2021/03/11 19:35:47\n",
      "2021/03/11 19:36:01\n",
      "2020/12/17 09:52:49\n",
      "2021/03/11 16:38:52\n",
      "2021/02/04 18:06:57\n",
      "2021/03/11 19:36:14\n",
      "2021/03/11 16:15:26\n",
      "2021/03/11 19:36:25\n",
      "2021/03/11 19:36:13\n",
      "2021/02/22 14:13:30\n",
      "2021/02/19 18:06:31\n",
      "2021/02/26 18:59:59\n",
      "2021/03/11 19:35:34\n"
     ]
    }
   ],
   "source": [
    "import requests\n",
    "import csv\n",
    "import io\n",
    "url = 'http://opendataap2.e-land.gov.tw/resource/files/2021-03-11/132147d68273721d057a4e0247d83995.csv'\n",
    "\n",
    "response = requests.get(url)\n",
    "response.encoding = 'utf-8'\n",
    "csv_txt = response.text\n",
    "# type(csv_txt)\n",
    "file = io.StringIO(csv_txt)\n",
    "csv_reader = csv.reader(file)\n",
    "csv_list = list(csv_reader)\n",
    "for row in csv_list:\n",
    "    print(row[2])"
   ]
  }
 ],
 "metadata": {
  "kernelspec": {
   "display_name": "Python 3.10.7 ('venv01')",
   "language": "python",
   "name": "python3"
  },
  "language_info": {
   "codemirror_mode": {
    "name": "ipython",
    "version": 3
   },
   "file_extension": ".py",
   "mimetype": "text/x-python",
   "name": "python",
   "nbconvert_exporter": "python",
   "pygments_lexer": "ipython3",
   "version": "3.10.7"
  },
  "orig_nbformat": 4,
  "vscode": {
   "interpreter": {
    "hash": "7b40f03346e85985d88a0e6fd3538bafadfdd6ee89a4b2d68e1815a7a73c2b26"
   }
  }
 },
 "nbformat": 4,
 "nbformat_minor": 2
}
