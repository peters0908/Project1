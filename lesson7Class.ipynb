{
 "cells": [
  {
   "cell_type": "code",
   "execution_count": 2,
   "metadata": {},
   "outputs": [],
   "source": [
    "class Person():\n",
    "    def __init__(self,hisname,hisage):\n",
    "        #attritube\n",
    "        self.name = hisname\n",
    "        self.age = hisage\n",
    "    def shout(self):\n",
    "        print((f'我的名字叫{self.name}'))\n",
    "        print((f'我的年紀是{self.age}'))\n",
    "\n"
   ]
  },
  {
   "cell_type": "code",
   "execution_count": 6,
   "metadata": {},
   "outputs": [
    {
     "name": "stdout",
     "output_type": "stream",
     "text": [
      "我的名字叫Robert\n",
      "我的年紀是35\n"
     ]
    }
   ],
   "source": [
    "p1 = Person('Robert',35)\n",
    "p1.shout()"
   ]
  },
  {
   "cell_type": "code",
   "execution_count": 7,
   "metadata": {},
   "outputs": [],
   "source": [
    "class Student(Person):\n",
    "    pass"
   ]
  },
  {
   "cell_type": "code",
   "execution_count": 8,
   "metadata": {},
   "outputs": [
    {
     "name": "stdout",
     "output_type": "stream",
     "text": [
      "我的名字叫Alice\n",
      "我的年紀是32\n"
     ]
    }
   ],
   "source": [
    "student1 = Student(hisname='Alice',hisage=32)\n",
    "student1.shout()\n"
   ]
  }
 ],
 "metadata": {
  "kernelspec": {
   "display_name": "Python 3.10.7 ('venv01')",
   "language": "python",
   "name": "python3"
  },
  "language_info": {
   "codemirror_mode": {
    "name": "ipython",
    "version": 3
   },
   "file_extension": ".py",
   "mimetype": "text/x-python",
   "name": "python",
   "nbconvert_exporter": "python",
   "pygments_lexer": "ipython3",
   "version": "3.10.7"
  },
  "orig_nbformat": 4,
  "vscode": {
   "interpreter": {
    "hash": "7b40f03346e85985d88a0e6fd3538bafadfdd6ee89a4b2d68e1815a7a73c2b26"
   }
  }
 },
 "nbformat": 4,
 "nbformat_minor": 2
}
