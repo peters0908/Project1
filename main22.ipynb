{
 "cells": [
  {
   "cell_type": "code",
   "execution_count": 2,
   "metadata": {},
   "outputs": [],
   "source": [
    "import tkinter as tk\n",
    "from PIL import Image, ImageTk\n",
    "\n",
    "class Window(tk.Tk):\n",
    "    def __init__(self):\n",
    "        super().__init__()\n",
    "        bgImage = Image.open('./640X400.jpg')        \n",
    "        self.tkImage = ImageTk.PhotoImage(bgImage)\n",
    "        mainCanvas = tk.Canvas(self,width=640,height=400)\n",
    "        mainCanvas.create_image(0,0,anchor=tk.NW,image=self.tkImage)              \n",
    "        mainCanvas.pack()\n",
    "        \n",
    "\n",
    "def main():\n",
    "    window = Window()\n",
    "    window.title(\"Frame框架\")\n",
    "    window.geometry(\"640x400\")\n",
    "    window.mainloop()\n",
    "\n",
    "if __name__ == \"__main__\":\n",
    "    main()"
   ]
  }
 ],
 "metadata": {
  "kernelspec": {
   "display_name": "Python 3.10.7 64-bit",
   "language": "python",
   "name": "python3"
  },
  "language_info": {
   "codemirror_mode": {
    "name": "ipython",
    "version": 3
   },
   "file_extension": ".py",
   "mimetype": "text/x-python",
   "name": "python",
   "nbconvert_exporter": "python",
   "pygments_lexer": "ipython3",
   "version": "3.10.7"
  },
  "orig_nbformat": 4,
  "vscode": {
   "interpreter": {
    "hash": "fb4569285eef3a3450cb62085a5b1e0da4bce0af555edc33dcf29baf3acc1368"
   }
  }
 },
 "nbformat": 4,
 "nbformat_minor": 2
}
