{
 "cells": [
  {
   "cell_type": "code",
   "execution_count": 1,
   "metadata": {},
   "outputs": [],
   "source": [
    "import tkinter as tk\n",
    "\n",
    "class Window(tk.Tk):\n",
    "    def __init__(self): # 通常固定要這樣寫\n",
    "        super().__init__() # 因為是繼承父類別的功能\n",
    "        mainFrame = tk.Frame(self,bg='#345678',width=800,height=600)\n",
    "        mainFrame.pack()\n",
    "        #mainCanvas = tk.Canvas(self,width=640,height=400)\n",
    "\n",
    "def main():\n",
    "    window = Window()\n",
    "    window.title(\"Frame框架\")\n",
    "    window.geometry(\"800x500\")\n",
    "    window.mainloop()\n",
    "\n",
    "if __name__ == \"__main__\":\n",
    "    main()"
   ]
  }
 ],
 "metadata": {
  "kernelspec": {
   "display_name": "Python 3.10.7 64-bit",
   "language": "python",
   "name": "python3"
  },
  "language_info": {
   "codemirror_mode": {
    "name": "ipython",
    "version": 3
   },
   "file_extension": ".py",
   "mimetype": "text/x-python",
   "name": "python",
   "nbconvert_exporter": "python",
   "pygments_lexer": "ipython3",
   "version": "3.10.7"
  },
  "orig_nbformat": 4,
  "vscode": {
   "interpreter": {
    "hash": "fb4569285eef3a3450cb62085a5b1e0da4bce0af555edc33dcf29baf3acc1368"
   }
  }
 },
 "nbformat": 4,
 "nbformat_minor": 2
}
