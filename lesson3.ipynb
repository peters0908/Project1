{
 "cells": [
  {
   "cell_type": "code",
   "execution_count": 1,
   "metadata": {},
   "outputs": [],
   "source": [
    "#自訂的function\n",
    "def menu(wine, entree, dessert):\n",
    "    return {'餐酒':wine, '主餐':entree, '甜點':dessert}\n"
   ]
  },
  {
   "cell_type": "code",
   "execution_count": 5,
   "metadata": {},
   "outputs": [
    {
     "data": {
      "text/plain": [
       "{'餐酒': '啤酒', '主餐': '豬排', '甜點': '紅豆湯'}"
      ]
     },
     "execution_count": 5,
     "metadata": {},
     "output_type": "execute_result"
    }
   ],
   "source": [
    "#依據參數的位置呼叫，需照順序填入\n",
    "menu('白酒','牛排','蛋糕')\n",
    "menu('啤酒','豬排','紅豆湯')\n"
   ]
  },
  {
   "cell_type": "code",
   "execution_count": 6,
   "metadata": {},
   "outputs": [
    {
     "data": {
      "text/plain": [
       "{'餐酒': '啤酒', '主餐': '豬排', '甜點': '紅豆湯'}"
      ]
     },
     "execution_count": 6,
     "metadata": {},
     "output_type": "execute_result"
    }
   ],
   "source": [
    "#也可改用指定引數名稱呼叫，結果一樣\n",
    "menu(wine='啤酒',entree='豬排',dessert='紅豆湯')"
   ]
  },
  {
   "cell_type": "code",
   "execution_count": 8,
   "metadata": {},
   "outputs": [
    {
     "data": {
      "text/plain": [
       "{'餐酒': '啤酒', '主餐': '豬排', '甜點': '紅豆湯'}"
      ]
     },
     "execution_count": 8,
     "metadata": {},
     "output_type": "execute_result"
    }
   ],
   "source": [
    "#用指定引數名稱呼叫，可不用照順序\n",
    "menu(entree='豬排',dessert='紅豆湯',wine='啤酒')"
   ]
  },
  {
   "cell_type": "code",
   "execution_count": 9,
   "metadata": {},
   "outputs": [
    {
     "data": {
      "text/plain": [
       "{'餐酒': '啤酒', '主餐': '豬排', '甜點': '紅豆湯'}"
      ]
     },
     "execution_count": 9,
     "metadata": {},
     "output_type": "execute_result"
    }
   ],
   "source": [
    "#混合呼叫\n",
    "#前面用位置呼叫，後面用名稱呼叫\n",
    "menu('啤酒',dessert='紅豆湯',entree='豬排')"
   ]
  }
 ],
 "metadata": {
  "kernelspec": {
   "display_name": "Python 3.10.7 ('venv01')",
   "language": "python",
   "name": "python3"
  },
  "language_info": {
   "codemirror_mode": {
    "name": "ipython",
    "version": 3
   },
   "file_extension": ".py",
   "mimetype": "text/x-python",
   "name": "python",
   "nbconvert_exporter": "python",
   "pygments_lexer": "ipython3",
   "version": "3.10.7"
  },
  "orig_nbformat": 4,
  "vscode": {
   "interpreter": {
    "hash": "7b40f03346e85985d88a0e6fd3538bafadfdd6ee89a4b2d68e1815a7a73c2b26"
   }
  }
 },
 "nbformat": 4,
 "nbformat_minor": 2
}
